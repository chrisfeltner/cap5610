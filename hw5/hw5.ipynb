{
 "cells": [
  {
   "cell_type": "code",
   "execution_count": 1,
   "metadata": {},
   "outputs": [],
   "source": [
    "import numpy as np\n",
    "import pandas as pd\n",
    "import matplotlib.pyplot as plt\n",
    "from scipy import spatial\n",
    "import time"
   ]
  },
  {
   "cell_type": "code",
   "execution_count": 2,
   "metadata": {},
   "outputs": [],
   "source": [
    "class KMeans:\n",
    "    def __init__(self, X, k=5, max_iterations=100, init_centroids=[], distance_func=\"euclidean\", labels=[], terminating_condition=\"converged\"):\n",
    "        self.k = k\n",
    "        self.max_iterations = max_iterations\n",
    "        self.centroids = init_centroids\n",
    "        self.clusters = [[] for _ in range(self.k)]\n",
    "        self.distance_func = distance_func\n",
    "        self.X = X\n",
    "        self.sample_count, self.feature_count = X.shape\n",
    "        self.labels = labels\n",
    "        self.time = 0\n",
    "        self.iteration_count = 0\n",
    "        self.terminating_condition = terminating_condition\n",
    "    \n",
    "    def _distance(self, x1, x2):\n",
    "        if self.distance_func == \"euclidean\":\n",
    "            return spatial.distance.euclidean(x1, x2)\n",
    "        if self.distance_func == \"manhattan\":\n",
    "            return spatial.distance.cityblock(x1, x2)\n",
    "        if self.distance_func == \"cosine\":\n",
    "            return spatial.distance.cosine(x1, x2) #This corresponds to 1 - cosine_similarity\n",
    "        if self.distance_func == \"jaccard\":\n",
    "            return 1 - (np.sum(np.minimum(x1, x2), axis=0) / np.sum(np.maximum(x1, x2), axis=0))\n",
    "        \n",
    "    def _create_clusters(self, centroids):\n",
    "        clusters = [[] for _ in range(self.k)]\n",
    "        for idx, sample in enumerate(self.X):\n",
    "            centroid_idx = self._get_closest_cluster(sample, centroids)\n",
    "            clusters[centroid_idx].append(idx)\n",
    "        return clusters\n",
    "    \n",
    "    def _get_closest_cluster(self, sample, centroids):\n",
    "        #print(\"get closest cluster\")\n",
    "        #print(\"gcc sample \"+str(sample))\n",
    "        #print(\"gcc centroids \"+str(centroids))\n",
    "        distances = [self._distance(sample, centroid) for centroid in centroids]\n",
    "        return np.argmin(distances)\n",
    "    \n",
    "    def _update_centroids(self, clusters):\n",
    "        #print(\"Update centroids\")\n",
    "        new_centroids = np.zeros((self.k, self.feature_count))\n",
    "        #print(\"init new centroids \"+str(new_centroids))\n",
    "        for cluster_index, cluster in enumerate(clusters):\n",
    "            #print(\"Cluster index: \"+str(cluster_index))\n",
    "            #print(\"Cluster \"+str(cluster))\n",
    "            cluster_mean = np.mean(self.X[cluster], axis=0)\n",
    "            #print(\"cluster mean \"+str(cluster_mean))\n",
    "            new_centroids[cluster_index] = cluster_mean\n",
    "            #print(\"new ce3ntroids \"+str(new_centroids))\n",
    "        return new_centroids\n",
    "\n",
    "    def _is_converged(self):\n",
    "        distances = [self._distance(self.prev_centroids[i], self.centroids[i]) for i in range(self.k)]\n",
    "        return sum(distances) == 0\n",
    "    \n",
    "    def _check_terminating_condition(self):\n",
    "        if self.terminating_condition == \"converged\":\n",
    "            return self._is_converged()\n",
    "        if self.terminating_condition == \"sse\":\n",
    "            return self.computeWithinss(self.centroids) > self.computeWithinss(self.prev_centroids) or self.iteration_count >= self.max_iterations\n",
    "        if self.terminating_condition == \"preset_max\":\n",
    "            return self.iteration_count >= self.max_iterations\n",
    "    \n",
    "    def get_cluster_labels(self):\n",
    "        labels = np.empty(self.sample_count)\n",
    "        for cluster_index, cluster in enumerate(self.clusters):\n",
    "            for sample_index in cluster:\n",
    "                labels[sample_index] = cluster_index\n",
    "        return labels\n",
    "        \n",
    "    def iterate(self):\n",
    "        self.iteration_count += 1\n",
    "        # Update clusters\n",
    "        self.clusters = self._create_clusters(self.centroids)\n",
    "\n",
    "        # Update centroids\n",
    "        self.prev_centroids = self.centroids\n",
    "        self.centroids = self._update_centroids(self.clusters)\n",
    "        \n",
    "    def predict(self):\n",
    "        start = time.perf_counter()\n",
    "        if len(self.centroids) == 0:\n",
    "            random_sample = np.random.choice(self.sample_count, self.k, replace=False)\n",
    "            self.centroids = [self.X[i] for i in random_sample]\n",
    "        \n",
    "        converged = False\n",
    "        while self.iteration_count == 0 or not self._check_terminating_condition():\n",
    "            self.iterate()\n",
    "                \n",
    "        print(\"Terminated after \"+str(self.iteration_count))\n",
    "        if self.terminating_condition == \"sse\":\n",
    "                    self.centroids = self.prev_centroids\n",
    "        end = time.perf_counter()\n",
    "        self.time = end - start\n",
    "            \n",
    "    def plot(self):\n",
    "        fig, ax = plt.subplots(figsize=(10, 10))\n",
    "        \n",
    "        for i, index in enumerate(self.clusters):\n",
    "            point = self.X[index].T\n",
    "            ax.scatter(*point)\n",
    "            \n",
    "        for point in self.centroids:\n",
    "            ax.scatter(*point, marker=\"x\", color=\"black\", linewidth=3)\n",
    "        \n",
    "        plt.show()\n",
    "        \n",
    "    def computeWithinss(self, centroids=[]):\n",
    "        if len(centroids) == 0:\n",
    "            centroids = self.centroids\n",
    "        result = 0\n",
    "        for i, centroid in enumerate(centroids):\n",
    "            for point_index in self.clusters[i]:\n",
    "                point = self.X[point_index]\n",
    "                result += spatial.distance.euclidean(centroid, point)\n",
    "        return result\n",
    "    \n",
    "    def computeAccuracy(self):\n",
    "        if len(self.labels) == 0:\n",
    "            print(\"No class labels provided to compute accuracy\")\n",
    "        # Get cluster label corresponding to class by majority vote\n",
    "        class_labels = np.unique(self.labels)\n",
    "        cluster_labels = self.get_cluster_labels()\n",
    "        class_cluster_labels = [[] for _ in range(len(class_labels))]\n",
    "        majority_vote_class_label = []\n",
    "        for i, class_label in enumerate(class_labels):\n",
    "            mask = iris_labels == class_label\n",
    "            class_cluster_labels[i] = cluster_labels[mask]\n",
    "\n",
    "        for i, class_cluster_label in enumerate(class_cluster_labels):\n",
    "            majority_vote_class_label.append(np.argmax(np.bincount(class_cluster_label.astype(int))))\n",
    "\n",
    "        # Compute accuracy\n",
    "        misclassifications = 0\n",
    "        for i, class_cluster_label in enumerate(class_cluster_labels):\n",
    "            misclassifications += np.count_nonzero(class_cluster_label != majority_vote_class_label[i])\n",
    "\n",
    "        accuracy = 1 - (misclassifications / len(cluster_labels))\n",
    "        return accuracy\n",
    "    \n",
    "    def getTime(self):\n",
    "        return self.time\n",
    "    \n",
    "    def getIterCount(self):\n",
    "        return self.iteration_count\n",
    "            "
   ]
  },
  {
   "cell_type": "code",
   "execution_count": 3,
   "metadata": {},
   "outputs": [],
   "source": [
    "football = pd.read_csv(\"../data/footballClustering/footballClustering.csv\")\n",
    "data = football[[\"Wins2016\", \"Wins2017\"]]\n",
    "data = data.loc[data.Wins2016.notna()]\n",
    "data = data.values"
   ]
  },
  {
   "cell_type": "code",
   "execution_count": 4,
   "metadata": {},
   "outputs": [
    {
     "name": "stdout",
     "output_type": "stream",
     "text": [
      "[[3. 5.]\n",
      " [3. 4.]\n",
      " [2. 8.]\n",
      " [2. 3.]\n",
      " [6. 2.]\n",
      " [6. 4.]\n",
      " [7. 3.]\n",
      " [7. 4.]\n",
      " [8. 5.]\n",
      " [7. 6.]]\n"
     ]
    }
   ],
   "source": [
    "print(data)"
   ]
  },
  {
   "cell_type": "code",
   "execution_count": 5,
   "metadata": {},
   "outputs": [],
   "source": [
    "kmeans = KMeans(data, k = 2)"
   ]
  },
  {
   "cell_type": "code",
   "execution_count": 6,
   "metadata": {},
   "outputs": [
    {
     "name": "stdout",
     "output_type": "stream",
     "text": [
      "Terminated after 2\n"
     ]
    }
   ],
   "source": [
    "kmeans.predict()"
   ]
  },
  {
   "cell_type": "code",
   "execution_count": 7,
   "metadata": {},
   "outputs": [
    {
     "data": {
      "image/png": "[encoded data removed]",
      "text/plain": [
       "<Figure size 720x720 with 1 Axes>"
      ]
     },
     "metadata": {
      "needs_background": "light"
     },
     "output_type": "display_data"
    }
   ],
   "source": [
    "kmeans.plot()"
   ]
  },
  {
   "cell_type": "code",
   "execution_count": 8,
   "metadata": {},
   "outputs": [
    {
     "data": {
      "text/plain": [
       "array([[4.8, 3.2],\n",
       "       [5.4, 5.6]])"
      ]
     },
     "execution_count": 8,
     "metadata": {},
     "output_type": "execute_result"
    }
   ],
   "source": [
    "kmeans.centroids"
   ]
  },
  {
   "cell_type": "markdown",
   "metadata": {},
   "source": [
    "# 1.1 Manhattan Distance"
   ]
  },
  {
   "cell_type": "code",
   "execution_count": 9,
   "metadata": {},
   "outputs": [],
   "source": [
    "centroids = [[4, 6], [5, 4]]\n",
    "kmeans = KMeans(data, k = 2, init_centroids=centroids, distance_func=\"manhattan\")"
   ]
  },
  {
   "cell_type": "code",
   "execution_count": 10,
   "metadata": {},
   "outputs": [],
   "source": [
    "kmeans.iterate()"
   ]
  },
  {
   "cell_type": "code",
   "execution_count": 11,
   "metadata": {},
   "outputs": [
    {
     "data": {
      "image/png": "[encoded data removed]",
      "text/plain": [
       "<Figure size 720x720 with 1 Axes>"
      ]
     },
     "metadata": {
      "needs_background": "light"
     },
     "output_type": "display_data"
    }
   ],
   "source": [
    "kmeans.plot()"
   ]
  },
  {
   "cell_type": "code",
   "execution_count": 12,
   "metadata": {},
   "outputs": [
    {
     "data": {
      "text/plain": [
       "array([[4.        , 6.33333333],\n",
       "       [5.57142857, 3.57142857]])"
      ]
     },
     "execution_count": 12,
     "metadata": {},
     "output_type": "execute_result"
    }
   ],
   "source": [
    "kmeans.centroids"
   ]
  },
  {
   "cell_type": "code",
   "execution_count": 13,
   "metadata": {},
   "outputs": [
    {
     "name": "stdout",
     "output_type": "stream",
     "text": [
      "Terminated after 2\n"
     ]
    }
   ],
   "source": [
    "kmeans = KMeans(data, k = 2, init_centroids=centroids, distance_func=\"manhattan\")\n",
    "kmeans.predict()"
   ]
  },
  {
   "cell_type": "code",
   "execution_count": 14,
   "metadata": {},
   "outputs": [
    {
     "data": {
      "image/png": "[encoded data removed]",
      "text/plain": [
       "<Figure size 720x720 with 1 Axes>"
      ]
     },
     "metadata": {
      "needs_background": "light"
     },
     "output_type": "display_data"
    }
   ],
   "source": [
    "kmeans.plot()"
   ]
  },
  {
   "cell_type": "markdown",
   "metadata": {},
   "source": [
    "# 1.2 Euclidean Distance"
   ]
  },
  {
   "cell_type": "code",
   "execution_count": 15,
   "metadata": {},
   "outputs": [],
   "source": [
    "kmeans = KMeans(data, k = 2, init_centroids=centroids, distance_func=\"euclidean\")"
   ]
  },
  {
   "cell_type": "code",
   "execution_count": 16,
   "metadata": {},
   "outputs": [],
   "source": [
    "kmeans.iterate()"
   ]
  },
  {
   "cell_type": "code",
   "execution_count": 17,
   "metadata": {},
   "outputs": [
    {
     "data": {
      "image/png": "[encoded data removed]",
      "text/plain": [
       "<Figure size 720x720 with 1 Axes>"
      ]
     },
     "metadata": {
      "needs_background": "light"
     },
     "output_type": "display_data"
    }
   ],
   "source": [
    "kmeans.plot()"
   ]
  },
  {
   "cell_type": "code",
   "execution_count": 18,
   "metadata": {},
   "outputs": [
    {
     "data": {
      "text/plain": [
       "array([[2.5  , 6.5  ],\n",
       "       [5.75 , 3.875]])"
      ]
     },
     "execution_count": 18,
     "metadata": {},
     "output_type": "execute_result"
    }
   ],
   "source": [
    "kmeans.centroids"
   ]
  },
  {
   "cell_type": "code",
   "execution_count": 19,
   "metadata": {},
   "outputs": [
    {
     "name": "stdout",
     "output_type": "stream",
     "text": [
      "Terminated after 3\n"
     ]
    }
   ],
   "source": [
    "kmeans = KMeans(data, k = 2, init_centroids=centroids, distance_func=\"euclidean\")\n",
    "kmeans.predict()"
   ]
  },
  {
   "cell_type": "code",
   "execution_count": 20,
   "metadata": {},
   "outputs": [
    {
     "data": {
      "image/png": "[encoded data removed]",
      "text/plain": [
       "<Figure size 720x720 with 1 Axes>"
      ]
     },
     "metadata": {
      "needs_background": "light"
     },
     "output_type": "display_data"
    }
   ],
   "source": [
    "kmeans.plot()"
   ]
  },
  {
   "cell_type": "markdown",
   "metadata": {},
   "source": [
    "# 1.3 Manhattan Distance 2"
   ]
  },
  {
   "cell_type": "code",
   "execution_count": 21,
   "metadata": {},
   "outputs": [],
   "source": [
    "centroids = [[3, 3], [8, 3]]\n",
    "kmeans = KMeans(data, k = 2, init_centroids=centroids, distance_func=\"manhattan\")"
   ]
  },
  {
   "cell_type": "code",
   "execution_count": 22,
   "metadata": {},
   "outputs": [],
   "source": [
    "kmeans.iterate()"
   ]
  },
  {
   "cell_type": "code",
   "execution_count": 23,
   "metadata": {},
   "outputs": [
    {
     "data": {
      "text/plain": [
       "array([[2.5       , 5.        ],\n",
       "       [6.83333333, 4.        ]])"
      ]
     },
     "execution_count": 23,
     "metadata": {},
     "output_type": "execute_result"
    }
   ],
   "source": [
    "kmeans.centroids"
   ]
  },
  {
   "cell_type": "code",
   "execution_count": 24,
   "metadata": {},
   "outputs": [],
   "source": [
    "centroids = [[3, 3], [8, 3]]\n",
    "kmeans = KMeans(data, k = 2, init_centroids=centroids, distance_func=\"manhattan\")"
   ]
  },
  {
   "cell_type": "code",
   "execution_count": 25,
   "metadata": {},
   "outputs": [
    {
     "name": "stdout",
     "output_type": "stream",
     "text": [
      "Terminated after 2\n"
     ]
    }
   ],
   "source": [
    "kmeans.predict()"
   ]
  },
  {
   "cell_type": "code",
   "execution_count": 26,
   "metadata": {},
   "outputs": [
    {
     "data": {
      "image/png": "[encoded data removed]",
      "text/plain": [
       "<Figure size 720x720 with 1 Axes>"
      ]
     },
     "metadata": {
      "needs_background": "light"
     },
     "output_type": "display_data"
    }
   ],
   "source": [
    "kmeans.plot()"
   ]
  },
  {
   "cell_type": "markdown",
   "metadata": {},
   "source": [
    "# 1.4 Manhattan 3"
   ]
  },
  {
   "cell_type": "code",
   "execution_count": 27,
   "metadata": {},
   "outputs": [],
   "source": [
    "centroids = [[3, 2], [4, 8]]\n",
    "kmeans = KMeans(data, k = 2, init_centroids=centroids, distance_func=\"manhattan\")"
   ]
  },
  {
   "cell_type": "code",
   "execution_count": 28,
   "metadata": {},
   "outputs": [],
   "source": [
    "kmeans.iterate()"
   ]
  },
  {
   "cell_type": "code",
   "execution_count": 29,
   "metadata": {},
   "outputs": [
    {
     "data": {
      "text/plain": [
       "array([[4.85714286, 3.57142857],\n",
       "       [5.66666667, 6.33333333]])"
      ]
     },
     "execution_count": 29,
     "metadata": {},
     "output_type": "execute_result"
    }
   ],
   "source": [
    "kmeans.centroids"
   ]
  },
  {
   "cell_type": "code",
   "execution_count": 30,
   "metadata": {},
   "outputs": [
    {
     "name": "stdout",
     "output_type": "stream",
     "text": [
      "Terminated after 2\n"
     ]
    }
   ],
   "source": [
    "kmeans = KMeans(data, k = 2, init_centroids=centroids, distance_func=\"manhattan\")\n",
    "kmeans.predict()"
   ]
  },
  {
   "cell_type": "code",
   "execution_count": 31,
   "metadata": {},
   "outputs": [
    {
     "data": {
      "image/png": "[encoded data removed]",
      "text/plain": [
       "<Figure size 720x720 with 1 Axes>"
      ]
     },
     "metadata": {
      "needs_background": "light"
     },
     "output_type": "display_data"
    }
   ],
   "source": [
    "kmeans.plot()"
   ]
  },
  {
   "cell_type": "markdown",
   "metadata": {},
   "source": [
    "# Task 2: Iris"
   ]
  },
  {
   "cell_type": "code",
   "execution_count": 32,
   "metadata": {},
   "outputs": [],
   "source": [
    "iris = pd.read_csv(\"../data/iris/iris.csv\", header=None)\n",
    "iris.head()\n",
    "iris_labels = iris.iloc[:,4].values\n",
    "iris = iris[[0, 1, 2, 3]].values"
   ]
  },
  {
   "cell_type": "markdown",
   "metadata": {},
   "source": [
    "# 2.1 SSE Comparison"
   ]
  },
  {
   "cell_type": "code",
   "execution_count": 33,
   "metadata": {},
   "outputs": [],
   "source": [
    "kmeans_euclidean = KMeans(iris, k=3, distance_func=\"euclidean\", labels=iris_labels)"
   ]
  },
  {
   "cell_type": "code",
   "execution_count": 34,
   "metadata": {},
   "outputs": [
    {
     "name": "stdout",
     "output_type": "stream",
     "text": [
      "Terminated after 6\n"
     ]
    }
   ],
   "source": [
    "kmeans_euclidean.predict()"
   ]
  },
  {
   "cell_type": "code",
   "execution_count": 35,
   "metadata": {},
   "outputs": [
    {
     "data": {
      "text/plain": [
       "97.32592423430009"
      ]
     },
     "execution_count": 35,
     "metadata": {},
     "output_type": "execute_result"
    }
   ],
   "source": [
    "kmeans_euclidean.computeWithinss()"
   ]
  },
  {
   "cell_type": "code",
   "execution_count": 36,
   "metadata": {},
   "outputs": [],
   "source": [
    "kmeans_cosine = KMeans(iris, k=3, distance_func=\"cosine\", labels=iris_labels)"
   ]
  },
  {
   "cell_type": "code",
   "execution_count": 37,
   "metadata": {},
   "outputs": [
    {
     "name": "stdout",
     "output_type": "stream",
     "text": [
      "Terminated after 3\n"
     ]
    }
   ],
   "source": [
    "kmeans_cosine.predict()"
   ]
  },
  {
   "cell_type": "code",
   "execution_count": 38,
   "metadata": {},
   "outputs": [
    {
     "data": {
      "text/plain": [
       "101.57278954029861"
      ]
     },
     "execution_count": 38,
     "metadata": {},
     "output_type": "execute_result"
    }
   ],
   "source": [
    "kmeans_cosine.computeWithinss()"
   ]
  },
  {
   "cell_type": "code",
   "execution_count": 39,
   "metadata": {},
   "outputs": [],
   "source": [
    "kmeans_jaccard = KMeans(iris, k=3, distance_func=\"jaccard\", labels=iris_labels)"
   ]
  },
  {
   "cell_type": "code",
   "execution_count": 40,
   "metadata": {},
   "outputs": [
    {
     "name": "stdout",
     "output_type": "stream",
     "text": [
      "Terminated after 12\n"
     ]
    }
   ],
   "source": [
    "kmeans_jaccard.predict()"
   ]
  },
  {
   "cell_type": "code",
   "execution_count": 41,
   "metadata": {},
   "outputs": [
    {
     "data": {
      "text/plain": [
       "97.48732751635758"
      ]
     },
     "execution_count": 41,
     "metadata": {},
     "output_type": "execute_result"
    }
   ],
   "source": [
    "kmeans_jaccard.computeWithinss()"
   ]
  },
  {
   "cell_type": "code",
   "execution_count": 42,
   "metadata": {},
   "outputs": [
    {
     "data": {
      "text/plain": [
       "array([0., 0., 0., 0., 0., 0., 0., 0., 0., 0., 0., 0., 0., 0., 0., 0., 0.,\n",
       "       0., 0., 0., 0., 0., 0., 0., 0., 0., 0., 0., 0., 0., 0., 0., 0., 0.,\n",
       "       0., 0., 0., 0., 0., 0., 0., 0., 0., 0., 0., 0., 0., 0., 0., 0., 2.,\n",
       "       1., 2., 1., 1., 1., 1., 1., 1., 1., 1., 1., 1., 1., 1., 1., 1., 1.,\n",
       "       1., 1., 1., 1., 1., 1., 1., 1., 1., 2., 1., 1., 1., 1., 1., 1., 1.,\n",
       "       1., 1., 1., 1., 1., 1., 1., 1., 1., 1., 1., 1., 1., 1., 1., 2., 1.,\n",
       "       2., 2., 2., 2., 1., 2., 2., 2., 2., 2., 2., 1., 1., 2., 2., 2., 2.,\n",
       "       1., 2., 1., 2., 1., 2., 2., 1., 1., 2., 2., 2., 2., 2., 1., 1., 2.,\n",
       "       2., 2., 1., 2., 2., 2., 1., 2., 2., 2., 1., 2., 2., 1.])"
      ]
     },
     "execution_count": 42,
     "metadata": {},
     "output_type": "execute_result"
    }
   ],
   "source": [
    "kmeans_jaccard.get_cluster_labels()"
   ]
  },
  {
   "cell_type": "code",
   "execution_count": 43,
   "metadata": {},
   "outputs": [
    {
     "data": {
      "text/plain": [
       "array(['Iris-setosa', 'Iris-versicolor', 'Iris-virginica'], dtype=object)"
      ]
     },
     "execution_count": 43,
     "metadata": {},
     "output_type": "execute_result"
    }
   ],
   "source": [
    "np.unique(iris_labels)"
   ]
  },
  {
   "cell_type": "markdown",
   "metadata": {},
   "source": [
    "# Task 2.2 Accuracy Comparison"
   ]
  },
  {
   "cell_type": "code",
   "execution_count": 44,
   "metadata": {},
   "outputs": [
    {
     "data": {
      "text/plain": [
       "0.8933333333333333"
      ]
     },
     "execution_count": 44,
     "metadata": {},
     "output_type": "execute_result"
    }
   ],
   "source": [
    "kmeans_euclidean.computeAccuracy()"
   ]
  },
  {
   "cell_type": "code",
   "execution_count": 45,
   "metadata": {},
   "outputs": [
    {
     "data": {
      "text/plain": [
       "0.9733333333333334"
      ]
     },
     "execution_count": 45,
     "metadata": {},
     "output_type": "execute_result"
    }
   ],
   "source": [
    "kmeans_cosine.computeAccuracy()"
   ]
  },
  {
   "cell_type": "code",
   "execution_count": 46,
   "metadata": {},
   "outputs": [
    {
     "data": {
      "text/plain": [
       "0.88"
      ]
     },
     "execution_count": 46,
     "metadata": {},
     "output_type": "execute_result"
    }
   ],
   "source": [
    "kmeans_jaccard.computeAccuracy()"
   ]
  },
  {
   "cell_type": "markdown",
   "metadata": {},
   "source": [
    "# Task 2.3 Performance Comparison"
   ]
  },
  {
   "cell_type": "code",
   "execution_count": 47,
   "metadata": {},
   "outputs": [
    {
     "name": "stdout",
     "output_type": "stream",
     "text": [
      "6\n",
      "0.08069598199999994\n"
     ]
    }
   ],
   "source": [
    "print(kmeans_euclidean.getIterCount())\n",
    "print(kmeans_euclidean.getTime())"
   ]
  },
  {
   "cell_type": "code",
   "execution_count": 48,
   "metadata": {},
   "outputs": [
    {
     "name": "stdout",
     "output_type": "stream",
     "text": [
      "3\n",
      "0.09791788700000037\n"
     ]
    }
   ],
   "source": [
    "print(kmeans_cosine.getIterCount())\n",
    "print(kmeans_cosine.getTime())"
   ]
  },
  {
   "cell_type": "code",
   "execution_count": 49,
   "metadata": {},
   "outputs": [
    {
     "name": "stdout",
     "output_type": "stream",
     "text": [
      "12\n",
      "0.18944323400000052\n"
     ]
    }
   ],
   "source": [
    "print(kmeans_jaccard.getIterCount())\n",
    "print(kmeans_jaccard.getTime())"
   ]
  },
  {
   "cell_type": "markdown",
   "metadata": {},
   "source": [
    "# Task 2.4 Terminating Conditions"
   ]
  },
  {
   "cell_type": "code",
   "execution_count": 50,
   "metadata": {},
   "outputs": [
    {
     "name": "stdout",
     "output_type": "stream",
     "text": [
      "Terminated after 100\n",
      "Terminated after 3\n",
      "Terminated after 100\n",
      "Terminated after 100\n",
      "Terminated after 100\n",
      "Terminated after 100\n"
     ]
    }
   ],
   "source": [
    "kmeans_euclidean_preset = KMeans(iris, k=3, distance_func=\"euclidean\", labels=iris_labels, terminating_condition=\"preset_max\")\n",
    "kmeans_euclidean_sse = KMeans(iris, k=3, distance_func=\"euclidean\", labels=iris_labels, terminating_condition=\"sse\")\n",
    "kmeans_cosine_preset = KMeans(iris, k=3, distance_func=\"cosine\", labels=iris_labels, terminating_condition=\"preset_max\")\n",
    "kmeans_cosine_sse = KMeans(iris, k=3, distance_func=\"cosine\", labels=iris_labels, terminating_condition=\"sse\")\n",
    "kmeans_jaccard_preset = KMeans(iris, k=3, distance_func=\"jaccard\", labels=iris_labels, terminating_condition=\"preset_max\")\n",
    "kmeans_jaccard_sse = KMeans(iris, k=3, distance_func=\"jaccard\", labels=iris_labels, terminating_condition=\"sse\")\n",
    "\n",
    "kmeans_euclidean_preset.predict()\n",
    "kmeans_euclidean_sse.predict()\n",
    "kmeans_cosine_preset.predict()\n",
    "kmeans_cosine_sse.predict()\n",
    "kmeans_jaccard_preset.predict()\n",
    "kmeans_jaccard_sse.predict()"
   ]
  },
  {
   "cell_type": "code",
   "execution_count": 51,
   "metadata": {},
   "outputs": [
    {
     "name": "stdout",
     "output_type": "stream",
     "text": [
      "1.055753888\n",
      "100\n",
      "97.34621969415679\n"
     ]
    }
   ],
   "source": [
    "print(kmeans_euclidean_preset.getTime())\n",
    "print(kmeans_euclidean_preset.getIterCount())\n",
    "print(kmeans_euclidean_preset.computeWithinss())"
   ]
  },
  {
   "cell_type": "code",
   "execution_count": 52,
   "metadata": {},
   "outputs": [
    {
     "name": "stdout",
     "output_type": "stream",
     "text": [
      "0.059868165999999334\n",
      "3\n",
      "97.44404944101123\n"
     ]
    }
   ],
   "source": [
    "print(kmeans_euclidean_sse.getTime())\n",
    "print(kmeans_euclidean_sse.getIterCount())\n",
    "print(kmeans_euclidean_sse.computeWithinss())"
   ]
  },
  {
   "cell_type": "code",
   "execution_count": 53,
   "metadata": {},
   "outputs": [
    {
     "name": "stdout",
     "output_type": "stream",
     "text": [
      "0.08069598199999994\n",
      "6\n",
      "97.32592423430009\n"
     ]
    }
   ],
   "source": [
    "print(kmeans_euclidean.getTime())\n",
    "print(kmeans_euclidean.getIterCount())\n",
    "print(kmeans_euclidean.computeWithinss())"
   ]
  },
  {
   "cell_type": "code",
   "execution_count": 54,
   "metadata": {},
   "outputs": [
    {
     "name": "stdout",
     "output_type": "stream",
     "text": [
      "2.3318541019999994\n",
      "100\n",
      "101.57278954029852\n"
     ]
    }
   ],
   "source": [
    "print(kmeans_cosine_preset.getTime())\n",
    "print(kmeans_cosine_preset.getIterCount())\n",
    "print(kmeans_cosine_preset.computeWithinss())"
   ]
  },
  {
   "cell_type": "code",
   "execution_count": 66,
   "metadata": {},
   "outputs": [
    {
     "name": "stdout",
     "output_type": "stream",
     "text": [
      "Terminated after 2\n",
      "0.12113336999993862\n",
      "2\n",
      "125.63333167114233\n"
     ]
    }
   ],
   "source": [
    "kmeans_cosine_sse = KMeans(iris, k=3, distance_func=\"cosine\", labels=iris_labels, terminating_condition=\"sse\")\n",
    "kmeans_cosine_sse.predict()\n",
    "print(kmeans_cosine_sse.getTime())\n",
    "print(kmeans_cosine_sse.getIterCount())\n",
    "print(kmeans_cosine_sse.computeWithinss())"
   ]
  },
  {
   "cell_type": "code",
   "execution_count": 56,
   "metadata": {},
   "outputs": [
    {
     "name": "stdout",
     "output_type": "stream",
     "text": [
      "0.09791788700000037\n",
      "3\n",
      "101.57278954029861\n"
     ]
    }
   ],
   "source": [
    "print(kmeans_cosine.getTime())\n",
    "print(kmeans_cosine.getIterCount())\n",
    "print(kmeans_cosine.computeWithinss())"
   ]
  },
  {
   "cell_type": "code",
   "execution_count": 57,
   "metadata": {},
   "outputs": [
    {
     "name": "stdout",
     "output_type": "stream",
     "text": [
      "1.047397964\n",
      "100\n",
      "97.4873275163576\n"
     ]
    }
   ],
   "source": [
    "print(kmeans_jaccard_preset.getTime())\n",
    "print(kmeans_jaccard_preset.getIterCount())\n",
    "print(kmeans_jaccard_preset.computeWithinss())"
   ]
  },
  {
   "cell_type": "code",
   "execution_count": 64,
   "metadata": {},
   "outputs": [
    {
     "name": "stdout",
     "output_type": "stream",
     "text": [
      "Terminated after 3\n",
      "0.08859588400002849\n",
      "3\n",
      "98.03749049590064\n"
     ]
    }
   ],
   "source": [
    "kmeans_jaccard_sse = KMeans(iris, k=3, distance_func=\"jaccard\", labels=iris_labels, terminating_condition=\"sse\")\n",
    "kmeans_jaccard_sse.predict()\n",
    "print(kmeans_jaccard_sse.getTime())\n",
    "print(kmeans_jaccard_sse.getIterCount())\n",
    "print(kmeans_jaccard_sse.computeWithinss())"
   ]
  },
  {
   "cell_type": "code",
   "execution_count": 59,
   "metadata": {},
   "outputs": [
    {
     "name": "stdout",
     "output_type": "stream",
     "text": [
      "0.18944323400000052\n",
      "12\n",
      "97.48732751635758\n"
     ]
    }
   ],
   "source": [
    "print(kmeans_jaccard.getTime())\n",
    "print(kmeans_jaccard.getIterCount())\n",
    "print(kmeans_jaccard.computeWithinss())"
   ]
  },
  {
   "cell_type": "markdown",
   "metadata": {},
   "source": [
    "# Task 4"
   ]
  },
  {
   "cell_type": "code",
   "execution_count": 67,
   "metadata": {},
   "outputs": [],
   "source": [
    "triangle = [[4.7, 3.2], [4.9, 3.1], [5.0, 3.0], [4.6, 2.9]]\n",
    "diamond = [[5.9, 3.2], [6.7, 3.1], [6.0, 3.0], [6.2, 2.8]]"
   ]
  },
  {
   "cell_type": "code",
   "execution_count": 68,
   "metadata": {},
   "outputs": [
    {
     "name": "stdout",
     "output_type": "stream",
     "text": [
      "1.4128564854895742\n"
     ]
    }
   ],
   "source": [
    "dist = 0\n",
    "for p1 in triangle:\n",
    "    for p2 in diamond:\n",
    "        dist += spatial.distance.euclidean(p1, p2)\n",
    "print(dist/16)"
   ]
  },
  {
   "cell_type": "code",
   "execution_count": null,
   "metadata": {},
   "outputs": [],
   "source": []
  }
 ],
 "metadata": {
  "kernelspec": {
   "display_name": "Python 3.8.1 64-bit",
   "language": "python",
   "name": "python38164bit7d77e83da1334c7197b75f94d8124b02"
  },
  "language_info": {
   "codemirror_mode": {
    "name": "ipython",
    "version": 3
   },
   "file_extension": ".py",
   "mimetype": "text/x-python",
   "name": "python",
   "nbconvert_exporter": "python",
   "pygments_lexer": "ipython3",
   "version": "3.8.1"
  }
 },
 "nbformat": 4,
 "nbformat_minor": 4
}
