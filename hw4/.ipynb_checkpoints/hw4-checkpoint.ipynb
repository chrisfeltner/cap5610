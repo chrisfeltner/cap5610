{
 "cells": [
  {
   "cell_type": "code",
   "execution_count": 5,
   "metadata": {},
   "outputs": [],
   "source": [
    "import numpy as np\n",
    "import pandas as pd\n",
    "import matplotlib.pyplot as plt\n",
    "from sklearn.model_selection import cross_validate\n",
    "from sklearn import svm\n",
    "from sklearn.impute import KNNImputer"
   ]
  },
  {
   "cell_type": "code",
   "execution_count": 6,
   "metadata": {},
   "outputs": [],
   "source": [
    "train_df = pd.read_csv(\"../data/titanic/train.csv\")\n",
    "test_df = pd.read_csv(\"../data/titanic/test.csv\")"
   ]
  },
  {
   "cell_type": "code",
   "execution_count": 7,
   "metadata": {},
   "outputs": [
    {
     "data": {
      "text/plain": [
       "Pclass      float64\n",
       "Sex         float64\n",
       "Age         float64\n",
       "SibSp       float64\n",
       "Parch       float64\n",
       "Fare        float64\n",
       "Embarked    float64\n",
       "dtype: object"
      ]
     },
     "execution_count": 7,
     "metadata": {},
     "output_type": "execute_result"
    }
   ],
   "source": [
    "# Make int rather than string\n",
    "train_df[\"Sex\"] = train_df[\"Sex\"].map({\"female\": 1, \"male\": 0}).astype(int)\n",
    "test_df[\"Sex\"] = test_df[\"Sex\"].map({\"female\": 1, \"male\": 0}).astype(int)\n",
    "\n",
    "# Fill with most common port\n",
    "train_df[\"Embarked\"].fillna('S', inplace=True)\n",
    "test_df[\"Embarked\"].fillna('S', inplace=True)\n",
    "\n",
    "# Make int rather than string\n",
    "train_df[\"Embarked\"] = train_df[\"Embarked\"].map({'S': 0, 'Q': 1, 'C': 2}).astype(int)\n",
    "test_df[\"Embarked\"] = test_df[\"Embarked\"].map({'S': 0, 'Q': 1, 'C': 2}).astype(int)\n",
    "\n",
    "# Fill missing values with mode and bin\n",
    "train_df[\"Fare\"].fillna(train_df[\"Fare\"].mode(), inplace=True)\n",
    "test_df[\"Fare\"].fillna(test_df[\"Fare\"].mode(), inplace=True)\n",
    "test_df[\"Fare\"] = pd.cut(test_df[\"Fare\"], bins=[-0.001, 7.91, 14.454, 31.0, 513], right=True, labels=[0, 1, 2, 3]).cat.codes\n",
    "train_df[\"Fare\"] = pd.cut(train_df[\"Fare\"], bins=[-0.001, 7.91, 14.454, 31.0, 513], right=True, labels=[0, 1, 2, 3]).cat.codes\n",
    "\n",
    "# Use KNN imputer to get missing age values\n",
    "imputer = KNNImputer(n_neighbors=5)\n",
    "X = train_df[\"Age\"].values.reshape(-1, 1)\n",
    "transform = imputer.fit_transform(X)\n",
    "train_df[\"Age\"] = transform\n",
    "\n",
    "X = test_df[\"Age\"].values.reshape(-1, 1)\n",
    "transform = imputer.fit_transform(X)\n",
    "test_df[\"Age\"] = transform\n",
    "\n",
    "X = train_df[[\"Pclass\", \"Sex\", \"Age\", \"SibSp\", \"Parch\", \"Fare\", \"Embarked\"]].astype(float)\n",
    "X_test = test_df[[\"Pclass\", \"Sex\", \"Age\", \"SibSp\", \"Parch\", \"Fare\", \"Embarked\"]].astype(float)\n",
    "y = train_df[\"Survived\"].values\n",
    "X.dtypes"
   ]
  },
  {
   "cell_type": "markdown",
   "metadata": {},
   "source": [
    "# Linear"
   ]
  },
  {
   "cell_type": "code",
   "execution_count": 19,
   "metadata": {},
   "outputs": [
    {
     "data": {
      "text/plain": [
       "0.7878601468834348"
      ]
     },
     "execution_count": 19,
     "metadata": {},
     "output_type": "execute_result"
    }
   ],
   "source": [
    "clf = svm.SVC(kernel=\"linear\")\n",
    "results = cross_validate(clf, X, y, cv=5, scoring=[\"accuracy\"])\n",
    "results[\"test_accuracy\"].mean()"
   ]
  },
  {
   "cell_type": "markdown",
   "metadata": {},
   "source": [
    "# RBF"
   ]
  },
  {
   "cell_type": "code",
   "execution_count": 18,
   "metadata": {},
   "outputs": [
    {
     "data": {
      "text/plain": [
       "0.6419747661791476"
      ]
     },
     "execution_count": 18,
     "metadata": {},
     "output_type": "execute_result"
    }
   ],
   "source": [
    "clf = svm.SVC(kernel=\"rbf\")\n",
    "results = cross_validate(clf, X, y, cv=5, scoring=[\"accuracy\"])\n",
    "results[\"test_accuracy\"].mean()"
   ]
  },
  {
   "cell_type": "markdown",
   "metadata": {},
   "source": [
    "# Polynomial Degree 2"
   ]
  },
  {
   "cell_type": "code",
   "execution_count": 17,
   "metadata": {},
   "outputs": [
    {
     "data": {
      "text/plain": [
       "0.6386039796622937"
      ]
     },
     "execution_count": 17,
     "metadata": {},
     "output_type": "execute_result"
    }
   ],
   "source": [
    "clf = svm.SVC(kernel=\"poly\", degree=2)\n",
    "results = cross_validate(clf, X, y, cv=5, scoring=[\"accuracy\"])\n",
    "results[\"test_accuracy\"].mean()"
   ]
  },
  {
   "cell_type": "code",
   "execution_count": null,
   "metadata": {},
   "outputs": [],
   "source": []
  }
 ],
 "metadata": {
  "kernelspec": {
   "display_name": "Python 3.8.1 64-bit",
   "language": "python",
   "name": "python38164bit7d77e83da1334c7197b75f94d8124b02"
  },
  "language_info": {
   "codemirror_mode": {
    "name": "ipython",
    "version": 3
   },
   "file_extension": ".py",
   "mimetype": "text/x-python",
   "name": "python",
   "nbconvert_exporter": "python",
   "pygments_lexer": "ipython3",
   "version": "3.8.1"
  }
 },
 "nbformat": 4,
 "nbformat_minor": 4
}
