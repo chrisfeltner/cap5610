{
 "cells": [
  {
   "cell_type": "code",
   "execution_count": 1,
   "metadata": {},
   "outputs": [],
   "source": [
    "import numpy as np\n",
    "import pandas as pd\n",
    "import matplotlib.pyplot as plt\n",
    "from sklearn.naive_bayes import GaussianNB\n",
    "from sklearn.neighbors import KNeighborsClassifier\n",
    "from sklearn.metrics import accuracy_score, classification_report\n",
    "from sklearn.impute import KNNImputer\n",
    "from sklearn.model_selection import cross_validate"
   ]
  },
  {
   "cell_type": "markdown",
   "metadata": {},
   "source": [
    "# Problem 1"
   ]
  },
  {
   "cell_type": "code",
   "execution_count": 2,
   "metadata": {},
   "outputs": [],
   "source": [
    "train_df = pd.read_csv(\"../data/football/train.csv\")\n",
    "test_df = pd.read_csv(\"../data/football/test.csv\")"
   ]
  },
  {
   "cell_type": "markdown",
   "metadata": {},
   "source": [
    "## Preprocess Data"
   ]
  },
  {
   "cell_type": "code",
   "execution_count": 3,
   "metadata": {},
   "outputs": [
    {
     "name": "stderr",
     "output_type": "stream",
     "text": [
      "<ipython-input-3-cd8c93c60ef7>:4: SettingWithCopyWarning: \n",
      "A value is trying to be set on a copy of a slice from a DataFrame.\n",
      "Try using .loc[row_indexer,col_indexer] = value instead\n",
      "\n",
      "See the caveats in the documentation: https://pandas.pydata.org/pandas-docs/stable/user_guide/indexing.html#returning-a-view-versus-a-copy\n",
      "  X_train[\"Is_Home_or_Away\"] = X_train[\"Is_Home_or_Away\"].map({\"Home\": 0, \"Away\": 1}).astype(\"int\")\n",
      "<ipython-input-3-cd8c93c60ef7>:5: SettingWithCopyWarning: \n",
      "A value is trying to be set on a copy of a slice from a DataFrame.\n",
      "Try using .loc[row_indexer,col_indexer] = value instead\n",
      "\n",
      "See the caveats in the documentation: https://pandas.pydata.org/pandas-docs/stable/user_guide/indexing.html#returning-a-view-versus-a-copy\n",
      "  X_test[\"Is_Home_or_Away\"] = X_test[\"Is_Home_or_Away\"].map({\"Home\": 0, \"Away\": 1}).astype(\"int\")\n",
      "<ipython-input-3-cd8c93c60ef7>:7: SettingWithCopyWarning: \n",
      "A value is trying to be set on a copy of a slice from a DataFrame.\n",
      "Try using .loc[row_indexer,col_indexer] = value instead\n",
      "\n",
      "See the caveats in the documentation: https://pandas.pydata.org/pandas-docs/stable/user_guide/indexing.html#returning-a-view-versus-a-copy\n",
      "  X_train[\"Is_Opponent_in_AP25_Preseason\"] = X_train[\"Is_Opponent_in_AP25_Preseason\"].map({\"Out\": 0, \"In\": 1}).astype(\"int\")\n",
      "<ipython-input-3-cd8c93c60ef7>:8: SettingWithCopyWarning: \n",
      "A value is trying to be set on a copy of a slice from a DataFrame.\n",
      "Try using .loc[row_indexer,col_indexer] = value instead\n",
      "\n",
      "See the caveats in the documentation: https://pandas.pydata.org/pandas-docs/stable/user_guide/indexing.html#returning-a-view-versus-a-copy\n",
      "  X_test[\"Is_Opponent_in_AP25_Preseason\"] = X_test[\"Is_Opponent_in_AP25_Preseason\"].map({\"Out\": 0, \"In\": 1}).astype(\"int\")\n",
      "<ipython-input-3-cd8c93c60ef7>:11: SettingWithCopyWarning: \n",
      "A value is trying to be set on a copy of a slice from a DataFrame.\n",
      "Try using .loc[row_indexer,col_indexer] = value instead\n",
      "\n",
      "See the caveats in the documentation: https://pandas.pydata.org/pandas-docs/stable/user_guide/indexing.html#returning-a-view-versus-a-copy\n",
      "  X_train[\"Media\"] = X_train[\"Media\"].map({\"1-NBC\": 0, \"2-ESPN\": 1, \"3-FOX\": 2, \"4-ABC\": 3, \"5-CBS\": 4}).astype(\"int\")\n",
      "<ipython-input-3-cd8c93c60ef7>:12: SettingWithCopyWarning: \n",
      "A value is trying to be set on a copy of a slice from a DataFrame.\n",
      "Try using .loc[row_indexer,col_indexer] = value instead\n",
      "\n",
      "See the caveats in the documentation: https://pandas.pydata.org/pandas-docs/stable/user_guide/indexing.html#returning-a-view-versus-a-copy\n",
      "  X_test[\"Media\"] = X_test[\"Media\"].map({\"1-NBC\": 0, \"2-ESPN\": 1, \"3-FOX\": 2, \"4-ABC\": 3, \"5-CBS\": 4}).astype(\"int\")\n"
     ]
    }
   ],
   "source": [
    "X_train = train_df[[\"Is_Home_or_Away\", \"Is_Opponent_in_AP25_Preseason\", \"Media\"]]\n",
    "X_test = test_df[[\"Is_Home_or_Away\", \"Is_Opponent_in_AP25_Preseason\", \"Media\"]]\n",
    "\n",
    "X_train[\"Is_Home_or_Away\"] = X_train[\"Is_Home_or_Away\"].map({\"Home\": 0, \"Away\": 1}).astype(\"int\")\n",
    "X_test[\"Is_Home_or_Away\"] = X_test[\"Is_Home_or_Away\"].map({\"Home\": 0, \"Away\": 1}).astype(\"int\")\n",
    "\n",
    "X_train[\"Is_Opponent_in_AP25_Preseason\"] = X_train[\"Is_Opponent_in_AP25_Preseason\"].map({\"Out\": 0, \"In\": 1}).astype(\"int\")\n",
    "X_test[\"Is_Opponent_in_AP25_Preseason\"] = X_test[\"Is_Opponent_in_AP25_Preseason\"].map({\"Out\": 0, \"In\": 1}).astype(\"int\")\n",
    "\n",
    "\n",
    "X_train[\"Media\"] = X_train[\"Media\"].map({\"1-NBC\": 0, \"2-ESPN\": 1, \"3-FOX\": 2, \"4-ABC\": 3, \"5-CBS\": 4}).astype(\"int\")\n",
    "X_test[\"Media\"] = X_test[\"Media\"].map({\"1-NBC\": 0, \"2-ESPN\": 1, \"3-FOX\": 2, \"4-ABC\": 3, \"5-CBS\": 4}).astype(\"int\")\n",
    "\n",
    "y_train = train_df[\"Label\"].map({\"Lose\": 0, \"Win\": 1})\n",
    "y_test = test_df[\"Label\"].map({\"Lose\": 0, \"Win\": 1})"
   ]
  },
  {
   "cell_type": "markdown",
   "metadata": {},
   "source": [
    "## Build Models"
   ]
  },
  {
   "cell_type": "code",
   "execution_count": 4,
   "metadata": {},
   "outputs": [],
   "source": [
    "gnb = GaussianNB()\n",
    "nb_clf = gnb.fit(X_train, y_train)\n",
    "\n",
    "knn = KNeighborsClassifier()\n",
    "knn_clf = knn.fit(X_train, y_train)"
   ]
  },
  {
   "cell_type": "code",
   "execution_count": 5,
   "metadata": {},
   "outputs": [],
   "source": [
    "nb_y_pred = nb_clf.predict(X_test)"
   ]
  },
  {
   "cell_type": "code",
   "execution_count": 6,
   "metadata": {},
   "outputs": [],
   "source": [
    "knn_y_pred = knn_clf.predict(X_test)"
   ]
  },
  {
   "cell_type": "markdown",
   "metadata": {},
   "source": [
    "## Evaluate"
   ]
  },
  {
   "cell_type": "code",
   "execution_count": 7,
   "metadata": {},
   "outputs": [
    {
     "name": "stdout",
     "output_type": "stream",
     "text": [
      "              precision    recall  f1-score   support\n",
      "\n",
      "        Lose       1.00      0.60      0.75         5\n",
      "         Win       0.78      1.00      0.88         7\n",
      "\n",
      "    accuracy                           0.83        12\n",
      "   macro avg       0.89      0.80      0.81        12\n",
      "weighted avg       0.87      0.83      0.82        12\n",
      "\n"
     ]
    }
   ],
   "source": [
    "print(classification_report(nb_y_pred, y_test, target_names=[\"Lose\", \"Win\"]))"
   ]
  },
  {
   "cell_type": "code",
   "execution_count": 8,
   "metadata": {},
   "outputs": [
    {
     "name": "stdout",
     "output_type": "stream",
     "text": [
      "              precision    recall  f1-score   support\n",
      "\n",
      "        Lose       0.00      0.00      0.00         0\n",
      "         Win       1.00      0.75      0.86        12\n",
      "\n",
      "    accuracy                           0.75        12\n",
      "   macro avg       0.50      0.38      0.43        12\n",
      "weighted avg       1.00      0.75      0.86        12\n",
      "\n"
     ]
    },
    {
     "name": "stderr",
     "output_type": "stream",
     "text": [
      "/Library/Frameworks/Python.framework/Versions/3.8/lib/python3.8/site-packages/sklearn/metrics/_classification.py:1272: UndefinedMetricWarning: Recall and F-score are ill-defined and being set to 0.0 in labels with no true samples. Use `zero_division` parameter to control this behavior.\n",
      "  _warn_prf(average, modifier, msg_start, len(result))\n"
     ]
    }
   ],
   "source": [
    "print(classification_report(knn_y_pred, y_test, target_names=[\"Lose\", \"Win\"]))"
   ]
  },
  {
   "cell_type": "code",
   "execution_count": 9,
   "metadata": {},
   "outputs": [
    {
     "data": {
      "text/plain": [
       "array([1, 0, 1, 1, 1, 0, 0, 1, 1, 0, 1, 0])"
      ]
     },
     "execution_count": 9,
     "metadata": {},
     "output_type": "execute_result"
    }
   ],
   "source": [
    "nb_y_pred"
   ]
  },
  {
   "cell_type": "code",
   "execution_count": 10,
   "metadata": {},
   "outputs": [
    {
     "data": {
      "text/plain": [
       "array([1, 1, 1, 1, 1, 1, 1, 1, 1, 1, 1, 1])"
      ]
     },
     "execution_count": 10,
     "metadata": {},
     "output_type": "execute_result"
    }
   ],
   "source": [
    "knn_y_pred"
   ]
  },
  {
   "cell_type": "markdown",
   "metadata": {},
   "source": [
    "# Problem 2"
   ]
  },
  {
   "cell_type": "code",
   "execution_count": 11,
   "metadata": {},
   "outputs": [],
   "source": [
    "train_df = pd.read_csv(\"../data/titanic/train.csv\")\n",
    "test_df = pd.read_csv(\"../data/titanic/test.csv\")"
   ]
  },
  {
   "cell_type": "markdown",
   "metadata": {},
   "source": [
    "## Preprocess Data"
   ]
  },
  {
   "cell_type": "code",
   "execution_count": 12,
   "metadata": {},
   "outputs": [],
   "source": [
    "# Make int rather than string\n",
    "train_df[\"Sex\"] = train_df[\"Sex\"].map({\"female\": 1, \"male\": 0}).astype(int)\n",
    "test_df[\"Sex\"] = test_df[\"Sex\"].map({\"female\": 1, \"male\": 0}).astype(int)\n",
    "\n",
    "# Fill with most common port\n",
    "train_df[\"Embarked\"].fillna('S', inplace=True)\n",
    "test_df[\"Embarked\"].fillna('S', inplace=True)\n",
    "\n",
    "# Make int rather than string\n",
    "train_df[\"Embarked\"] = train_df[\"Embarked\"].map({'S': 0, 'Q': 1, 'C': 2}).astype(int)\n",
    "test_df[\"Embarked\"] = test_df[\"Embarked\"].map({'S': 0, 'Q': 1, 'C': 2}).astype(int)\n",
    "\n",
    "# Fill missing values with mode and bin\n",
    "train_df[\"Fare\"].fillna(train_df[\"Fare\"].mode(), inplace=True)\n",
    "test_df[\"Fare\"].fillna(test_df[\"Fare\"].mode(), inplace=True)\n",
    "test_df[\"Fare\"] = pd.cut(test_df[\"Fare\"], bins=[-0.001, 7.91, 14.454, 31.0, 513], right=True, labels=[0, 1, 2, 3]).cat.codes\n",
    "train_df[\"Fare\"] = pd.cut(train_df[\"Fare\"], bins=[-0.001, 7.91, 14.454, 31.0, 513], right=True, labels=[0, 1, 2, 3]).cat.codes\n",
    "\n",
    "# Use KNN imputer to get missing age values\n",
    "imputer = KNNImputer(n_neighbors=5)\n",
    "X = train_df[\"Age\"].values.reshape(-1, 1)\n",
    "transform = imputer.fit_transform(X)\n",
    "train_df[\"Age\"] = transform\n",
    "\n",
    "X = test_df[\"Age\"].values.reshape(-1, 1)\n",
    "transform = imputer.fit_transform(X)\n",
    "test_df[\"Age\"] = transform"
   ]
  },
  {
   "cell_type": "markdown",
   "metadata": {},
   "source": [
    "## Select Features"
   ]
  },
  {
   "cell_type": "code",
   "execution_count": 13,
   "metadata": {},
   "outputs": [
    {
     "data": {
      "text/plain": [
       "Pclass      float64\n",
       "Sex         float64\n",
       "Age         float64\n",
       "SibSp       float64\n",
       "Parch       float64\n",
       "Fare        float64\n",
       "Embarked    float64\n",
       "dtype: object"
      ]
     },
     "execution_count": 13,
     "metadata": {},
     "output_type": "execute_result"
    }
   ],
   "source": [
    "X = train_df[[\"Pclass\", \"Sex\", \"Age\", \"SibSp\", \"Parch\", \"Fare\", \"Embarked\"]].astype(float)\n",
    "X_test = test_df[[\"Pclass\", \"Sex\", \"Age\", \"SibSp\", \"Parch\", \"Fare\", \"Embarked\"]].astype(float)\n",
    "y = train_df[\"Survived\"].values\n",
    "X.dtypes"
   ]
  },
  {
   "cell_type": "markdown",
   "metadata": {},
   "source": [
    "## NB Evaluation"
   ]
  },
  {
   "cell_type": "code",
   "execution_count": 14,
   "metadata": {},
   "outputs": [],
   "source": [
    "nb_results = cross_validate(gnb, X, y, cv=5, scoring=[\"accuracy\", \"precision\", \"recall\", \"f1\"])"
   ]
  },
  {
   "cell_type": "code",
   "execution_count": 15,
   "metadata": {},
   "outputs": [
    {
     "data": {
      "text/plain": [
       "0.75762350134957"
      ]
     },
     "execution_count": 15,
     "metadata": {},
     "output_type": "execute_result"
    }
   ],
   "source": [
    "nb_results['test_accuracy'].mean()"
   ]
  },
  {
   "cell_type": "code",
   "execution_count": 16,
   "metadata": {},
   "outputs": [
    {
     "data": {
      "text/plain": [
       "0.6655552273026693"
      ]
     },
     "execution_count": 16,
     "metadata": {},
     "output_type": "execute_result"
    }
   ],
   "source": [
    "nb_results['test_precision'].mean()"
   ]
  },
  {
   "cell_type": "code",
   "execution_count": 17,
   "metadata": {},
   "outputs": [
    {
     "data": {
      "text/plain": [
       "0.7486359761295823"
      ]
     },
     "execution_count": 17,
     "metadata": {},
     "output_type": "execute_result"
    }
   ],
   "source": [
    "nb_results['test_recall'].mean()"
   ]
  },
  {
   "cell_type": "code",
   "execution_count": 18,
   "metadata": {},
   "outputs": [
    {
     "data": {
      "text/plain": [
       "0.7040905246113948"
      ]
     },
     "execution_count": 18,
     "metadata": {},
     "output_type": "execute_result"
    }
   ],
   "source": [
    "nb_results['test_f1'].mean()"
   ]
  },
  {
   "cell_type": "markdown",
   "metadata": {},
   "source": [
    "## KNN From Scratch"
   ]
  },
  {
   "cell_type": "code",
   "execution_count": 19,
   "metadata": {},
   "outputs": [],
   "source": [
    "class KNN:\n",
    "    def __init__(self, k = 5):\n",
    "        self.k = k\n",
    "        \n",
    "    def _euclideanDistance(self, x1, x2):\n",
    "        return np.sqrt(np.sum(np.power(np.subtract(x2, x1), 2)))\n",
    "        \n",
    "    def fit(self, X, y):\n",
    "        X = X.values\n",
    "        self.X_train = self.normalize(X)\n",
    "        self.y_train = y\n",
    "        \n",
    "    def normalize(self, X):\n",
    "        colMin = X.min(axis=0)\n",
    "        colMax = X.max(axis=0)\n",
    "        for i in range(0, len(X[0])):\n",
    "            for j in range(0, len(X)):\n",
    "                X[j][i] = ((X[j][i] - colMin[i]) / (colMax[i] - colMin[i])).astype(float)\n",
    "        return X\n",
    "    \n",
    "    def predict(self, X):\n",
    "        X = X.values\n",
    "        X = self.normalize(X)\n",
    "        predicted_labels = [self._predict(x) for x in X]\n",
    "        return(predicted_labels)\n",
    "    \n",
    "    def _predict(self, x):\n",
    "        distances = [self._euclideanDistance(x, x_train) for x_train in self.X_train]\n",
    "        k_indices = np.argsort(distances)[:self.k]\n",
    "        k_labels = [self.y_train[i] for i in k_indices]\n",
    "        from collections import Counter\n",
    "        majority_vote = Counter(k_labels).most_common(1)\n",
    "        return majority_vote[0][0]\n",
    "    \n",
    "    # Function to make this class SKLearn compatible for metrics\n",
    "    def get_params(self, deep=True):\n",
    "        return {\"k\": self.k}\n",
    "\n",
    "    # Function to make this class SKLearn compatible for metrics\n",
    "    def set_params(self, **parameters):\n",
    "        for parameter, value in parameters.items():\n",
    "            setattr(self, parameter, value)\n",
    "        return self\n"
   ]
  },
  {
   "cell_type": "code",
   "execution_count": 20,
   "metadata": {},
   "outputs": [],
   "source": [
    "knn = KNN()\n",
    "knn.fit(X, y)"
   ]
  },
  {
   "cell_type": "code",
   "execution_count": 21,
   "metadata": {},
   "outputs": [],
   "source": [
    "knn_results = cross_validate(knn, X, y, cv=5, scoring=[\"accuracy\", \"precision\", \"recall\", \"f1\"])"
   ]
  },
  {
   "cell_type": "code",
   "execution_count": 22,
   "metadata": {},
   "outputs": [
    {
     "data": {
      "text/plain": [
       "0.8070177641077146"
      ]
     },
     "execution_count": 22,
     "metadata": {},
     "output_type": "execute_result"
    }
   ],
   "source": [
    "knn_results['test_accuracy'].mean()"
   ]
  },
  {
   "cell_type": "code",
   "execution_count": 23,
   "metadata": {},
   "outputs": [
    {
     "data": {
      "text/plain": [
       "0.7845798727370237"
      ]
     },
     "execution_count": 23,
     "metadata": {},
     "output_type": "execute_result"
    }
   ],
   "source": [
    "knn_results['test_precision'].mean()"
   ]
  },
  {
   "cell_type": "code",
   "execution_count": 24,
   "metadata": {},
   "outputs": [
    {
     "data": {
      "text/plain": [
       "0.6896025327412509"
      ]
     },
     "execution_count": 24,
     "metadata": {},
     "output_type": "execute_result"
    }
   ],
   "source": [
    "knn_results['test_recall'].mean()"
   ]
  },
  {
   "cell_type": "code",
   "execution_count": 25,
   "metadata": {},
   "outputs": [
    {
     "data": {
      "text/plain": [
       "0.7318600749253166"
      ]
     },
     "execution_count": 25,
     "metadata": {},
     "output_type": "execute_result"
    }
   ],
   "source": [
    "knn_results['test_f1'].mean()"
   ]
  },
  {
   "cell_type": "markdown",
   "metadata": {},
   "source": [
    "## Find optimal K"
   ]
  },
  {
   "cell_type": "code",
   "execution_count": 26,
   "metadata": {},
   "outputs": [],
   "source": [
    "accuracy = []\n",
    "for i in range(1, 101):\n",
    "    knn = KNN(k=i)\n",
    "    results = cross_validate(knn, X, y, cv=5, scoring=[\"accuracy\"])\n",
    "    accuracy.append(results['test_accuracy'].mean())"
   ]
  },
  {
   "cell_type": "code",
   "execution_count": 27,
   "metadata": {},
   "outputs": [
    {
     "data": {
      "text/plain": [
       "[<matplotlib.lines.Line2D at 0x7f99bbef1e80>]"
      ]
     },
     "execution_count": 27,
     "metadata": {},
     "output_type": "execute_result"
    },
    {
     "data": {
      "image/png": "[encoded data removed]",
      "text/plain": [
       "<Figure size 432x288 with 1 Axes>"
      ]
     },
     "metadata": {
      "needs_background": "light"
     },
     "output_type": "display_data"
    }
   ],
   "source": [
    "plt.plot(accuracy)"
   ]
  },
  {
   "cell_type": "code",
   "execution_count": 28,
   "metadata": {},
   "outputs": [
    {
     "data": {
      "text/plain": [
       "9"
      ]
     },
     "execution_count": 28,
     "metadata": {},
     "output_type": "execute_result"
    }
   ],
   "source": [
    "accuracy.index(max(accuracy))"
   ]
  },
  {
   "cell_type": "code",
   "execution_count": 29,
   "metadata": {},
   "outputs": [
    {
     "data": {
      "text/plain": [
       "0.8193270981106021"
      ]
     },
     "execution_count": 29,
     "metadata": {},
     "output_type": "execute_result"
    }
   ],
   "source": [
    "max(accuracy)"
   ]
  },
  {
   "cell_type": "code",
   "execution_count": 30,
   "metadata": {},
   "outputs": [],
   "source": [
    "knn = KNN(k=accuracy.index(max(accuracy)))\n",
    "knn.fit(X, y)\n",
    "knn_results = cross_validate(knn, X, y, cv=5, scoring=[\"accuracy\", \"precision\", \"recall\", \"f1\"])"
   ]
  },
  {
   "cell_type": "code",
   "execution_count": 31,
   "metadata": {},
   "outputs": [
    {
     "name": "stdout",
     "output_type": "stream",
     "text": [
      "0.8103320569957944\n",
      "0.80996891996892\n",
      "0.6609757426534942\n",
      "0.7269064126229777\n"
     ]
    }
   ],
   "source": [
    "print(knn_results['test_accuracy'].mean())\n",
    "print(knn_results['test_precision'].mean())\n",
    "print(knn_results['test_recall'].mean())\n",
    "print(knn_results['test_f1'].mean())"
   ]
  }
 ],
 "metadata": {
  "kernelspec": {
   "display_name": "Python 3.8.1 64-bit",
   "language": "python",
   "name": "python38164bit7d77e83da1334c7197b75f94d8124b02"
  },
  "language_info": {
   "codemirror_mode": {
    "name": "ipython",
    "version": 3
   },
   "file_extension": ".py",
   "mimetype": "text/x-python",
   "name": "python",
   "nbconvert_exporter": "python",
   "pygments_lexer": "ipython3",
   "version": "3.8.1"
  }
 },
 "nbformat": 4,
 "nbformat_minor": 4
}
